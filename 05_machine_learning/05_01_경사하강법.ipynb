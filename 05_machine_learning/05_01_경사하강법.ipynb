{
 "cells": [
  {
   "cell_type": "code",
   "execution_count": null,
   "id": "62508f09-20d8-4232-a74d-ea4996fcb9a9",
   "metadata": {},
   "outputs": [],
   "source": [
    "import numpy as np\n",
    "import matplotlib.pyplot as plt"
   ]
  },
  {
   "cell_type": "code",
   "execution_count": null,
   "id": "ddf590c2-d654-467e-ad5b-ea76840410ce",
   "metadata": {},
   "outputs": [],
   "source": [
    "np.random.seed(0)"
   ]
  },
  {
   "cell_type": "code",
   "execution_count": null,
   "id": "9a5adab2-99d9-49b4-8a22-3ea666dc95f2",
   "metadata": {
    "tags": []
   },
   "outputs": [],
   "source": [
    "X = 2 * np.random.rand(100,1)\n",
    "X"
   ]
  },
  {
   "cell_type": "code",
   "execution_count": null,
   "id": "eadc8338-4d2e-4ae8-8b4c-d0a1294cba74",
   "metadata": {},
   "outputs": [],
   "source": [
    "y = 6 + 4 * X + np.random.randn(100,1)"
   ]
  },
  {
   "cell_type": "code",
   "execution_count": null,
   "id": "fa61d712-4948-4f1a-ad68-50348667d387",
   "metadata": {},
   "outputs": [],
   "source": [
    "plt.scatter(X,y)"
   ]
  },
  {
   "cell_type": "code",
   "execution_count": null,
   "id": "9e5fce7e-0693-4258-b869-05a0ba4ce824",
   "metadata": {},
   "outputs": [],
   "source": [
    "def get_weight_updates(w1,w0,X,y,learning_rate=0.01):\n",
    "    N = len(y)\n",
    "    w1_update = np.zeros_like(w1)\n",
    "    w0_update = np.zeros_like(w0)\n",
    "    y_pred = np.dot(X,w1.T)+w0\n",
    "    diff = y-y_pred\n",
    "    w0_factors = np.ones((N,1))\n",
    "    w1_update = -(2/N)*learning_rate*(np.dot(X.T,diff))\n",
    "    w0_update = -(2/N)*learning_rate*(np.dot(w0_factors.T,diff))\n",
    "    return w1_update,w0_update"
   ]
  },
  {
   "cell_type": "code",
   "execution_count": null,
   "id": "1b282fd7-a3ce-4d2b-9c78-117641a75f88",
   "metadata": {},
   "outputs": [],
   "source": [
    "def gradient_descent_steps(X,y,iters=10000):\n",
    "    w0 = np.zeros((1,1))\n",
    "    w1 = np.zeros((1,1))\n",
    "    for ind in range(iters):\n",
    "        w1_update,w0_update = get_weight_updates(w1,w0,X,y)\n",
    "        w1 = w1 - w1_update\n",
    "        w0 = w0 - w0_update\n",
    "    return w1,w0"
   ]
  },
  {
   "cell_type": "code",
   "execution_count": null,
   "id": "7751902a-2fa6-4e26-87d4-53910529e837",
   "metadata": {},
   "outputs": [],
   "source": [
    "def get_cost(y,y_pred):\n",
    "    N = len(y)\n",
    "    cost  = np.sum(np.square(y-y_pred))/N\n",
    "    return cost"
   ]
  },
  {
   "cell_type": "code",
   "execution_count": null,
   "id": "95a43ea7-386b-4cc8-8bab-b27d7fc55f05",
   "metadata": {},
   "outputs": [],
   "source": [
    "w1,w0 = gradient_descent_steps(X,y,iters=1000)"
   ]
  },
  {
   "cell_type": "code",
   "execution_count": null,
   "id": "df3b8a4d-fc5c-449c-81c2-7617b538ad13",
   "metadata": {},
   "outputs": [],
   "source": [
    "print(w1,w0)"
   ]
  },
  {
   "cell_type": "code",
   "execution_count": null,
   "id": "b4c69e14-d083-4071-a7f6-102e8ace9b90",
   "metadata": {},
   "outputs": [],
   "source": [
    "y_pred = w1[0,0]*X+w0\n",
    "get_cost(y,y_pred)"
   ]
  },
  {
   "cell_type": "code",
   "execution_count": null,
   "id": "e754bf68-b805-4a78-8612-0cf88bc994e0",
   "metadata": {},
   "outputs": [],
   "source": []
  },
  {
   "cell_type": "code",
   "execution_count": null,
   "id": "435065e1-ebe0-4f34-8d01-7c7e1f5cac95",
   "metadata": {},
   "outputs": [],
   "source": []
  }
 ],
 "metadata": {
  "kernelspec": {
   "display_name": "Python 3 (ipykernel)",
   "language": "python",
   "name": "python3"
  },
  "language_info": {
   "codemirror_mode": {
    "name": "ipython",
    "version": 3
   },
   "file_extension": ".py",
   "mimetype": "text/x-python",
   "name": "python",
   "nbconvert_exporter": "python",
   "pygments_lexer": "ipython3",
   "version": "3.9.13"
  }
 },
 "nbformat": 4,
 "nbformat_minor": 5
}
