{
 "cells": [
  {
   "cell_type": "code",
   "execution_count": 1,
   "id": "4a885e5d-f7c8-4e75-a1df-7ebe6436c807",
   "metadata": {},
   "outputs": [],
   "source": [
    "def get_clf_eval(y_test,pred):\n",
    "    from sklearn.metrics import accuracy_score,precision_score,recall_score,confusion_matrix\n",
    "    confusion = confusion_matrix(y_test,pred)\n",
    "    accuracy = accuracy_score(y_test,pred)\n",
    "    precision = precision_score(y_test,pred)\n",
    "    recall = recall_score(y_test,pred)\n",
    "    print('오차행렬')\n",
    "    print(confusion)\n",
    "    print(f'정확도:{accuracy:.4f}, 정밀도:{precision:.4f}, 재현율:{recall:.4f}')"
   ]
  },
  {
   "cell_type": "code",
   "execution_count": 9,
   "id": "95c8084e-8260-47e0-abf0-7ee88464002b",
   "metadata": {},
   "outputs": [],
   "source": [
    "import pandas as pd\n",
    "import numpy as np\n",
    "from sklearn.model_selection import train_test_split\n",
    "from sklearn.linear_model import LogisticRegression"
   ]
  },
  {
   "cell_type": "code",
   "execution_count": 3,
   "id": "12f0fb5d-9d69-4778-b4b5-f2c14ab5895d",
   "metadata": {},
   "outputs": [],
   "source": [
    "def fillna(df):\n",
    "    df['Age'].fillna(df['Age'].mean(),inplace=True)\n",
    "    df['Cabin'].fillna('N',inplace=True)\n",
    "    df['Embarked'].fillna('N',inplace=True)\n",
    "    df['Fare'].fillna(0,inplace=True)\n",
    "    return df\n",
    "\n",
    "def drop_features(df):\n",
    "    df.drop(columns=['PassengerId','Name','Ticket'],inplace=True)\n",
    "    return df\n",
    "    \n",
    "def format_features(df):\n",
    "    from sklearn.preprocessing import LabelEncoder\n",
    "    df['Cabin'] = df['Cabin'].str[:1]\n",
    "    features=['Sex','Cabin','Embarked']\n",
    "    for feature in features:\n",
    "        le = LabelEncoder()\n",
    "        df[feature] = le.fit_transform(df[feature])\n",
    "        print(le.classes_)\n",
    "    return df\n",
    "\n",
    "def transform_features(df):\n",
    "    df = fillna(df)\n",
    "    df = drop_features(df)\n",
    "    df = format_features(df)\n",
    "    return df"
   ]
  },
  {
   "cell_type": "code",
   "execution_count": 4,
   "id": "7587bab1-50ba-4706-aea5-0e0d1d2afffb",
   "metadata": {},
   "outputs": [
    {
     "name": "stdout",
     "output_type": "stream",
     "text": [
      "['female' 'male']\n",
      "['A' 'B' 'C' 'D' 'E' 'F' 'G' 'N' 'T']\n",
      "['C' 'N' 'Q' 'S']\n"
     ]
    }
   ],
   "source": [
    "df = pd.read_csv('titanic.csv')\n",
    "y = df['Survived']\n",
    "X = df.drop(columns=['Survived'])\n",
    "X = transform_features(X)"
   ]
  },
  {
   "cell_type": "code",
   "execution_count": 5,
   "id": "e5d0fb00-0b9e-4e6c-a399-81c5907e4f06",
   "metadata": {},
   "outputs": [],
   "source": [
    "X_train,X_test,y_train,y_test =  train_test_split(X,y,test_size=0.2,random_state=11)"
   ]
  },
  {
   "cell_type": "code",
   "execution_count": 6,
   "id": "2c4d421d-787e-47e9-b5b3-db6ff8b3b71c",
   "metadata": {},
   "outputs": [
    {
     "name": "stdout",
     "output_type": "stream",
     "text": [
      "오차행렬\n",
      "[[108  10]\n",
      " [ 14  47]]\n",
      "정확도:0.8659, 정밀도:0.8246, 재현율:0.7705\n"
     ]
    }
   ],
   "source": [
    "lr_clf = LogisticRegression(solver='liblinear')\n",
    "lr_clf.fit(X_train,y_train)\n",
    "pred = lr_clf.predict(X_test)\n",
    "get_clf_eval(y_test,pred)"
   ]
  },
  {
   "cell_type": "code",
   "execution_count": 7,
   "id": "8ed31440-c03f-47d0-ac90-3ec1f7bcd38a",
   "metadata": {
    "collapsed": true,
    "jupyter": {
     "outputs_hidden": true
    },
    "tags": []
   },
   "outputs": [
    {
     "data": {
      "text/plain": [
       "array([1, 0, 0, 0, 0, 0, 0, 1, 0, 1, 0, 0, 0, 0, 0, 0, 0, 0, 0, 1, 0, 0,\n",
       "       0, 0, 0, 0, 0, 0, 0, 0, 1, 1, 0, 1, 0, 0, 0, 1, 0, 0, 0, 0, 1, 1,\n",
       "       1, 1, 1, 0, 1, 0, 0, 0, 0, 1, 0, 0, 0, 0, 0, 0, 0, 0, 0, 0, 0, 0,\n",
       "       1, 1, 1, 0, 0, 0, 0, 1, 0, 0, 0, 0, 1, 0, 1, 1, 1, 0, 1, 1, 0, 0,\n",
       "       1, 0, 0, 0, 0, 0, 1, 0, 1, 0, 0, 1, 1, 0, 1, 0, 1, 0, 0, 0, 0, 0,\n",
       "       0, 0, 0, 1, 0, 0, 0, 0, 1, 0, 0, 0, 0, 0, 0, 0, 0, 0, 1, 0, 1, 0,\n",
       "       1, 1, 1, 0, 1, 0, 0, 1, 1, 0, 0, 0, 0, 1, 0, 0, 1, 0, 0, 1, 1, 0,\n",
       "       1, 1, 0, 0, 1, 1, 0, 1, 0, 1, 0, 1, 1, 0, 0, 1, 0, 1, 0, 0, 0, 0,\n",
       "       0, 0, 1], dtype=int64)"
      ]
     },
     "execution_count": 7,
     "metadata": {},
     "output_type": "execute_result"
    }
   ],
   "source": [
    "pred"
   ]
  },
  {
   "cell_type": "code",
   "execution_count": 10,
   "id": "3e4c1fa0-0950-491b-819a-8588e7c34b3c",
   "metadata": {
    "tags": []
   },
   "outputs": [],
   "source": [
    "pred_proba = lr_clf.predict_proba(X_test)"
   ]
  },
  {
   "cell_type": "code",
   "execution_count": 11,
   "id": "ca0fb395-5f15-4b5a-8e1b-b84f7136ab6b",
   "metadata": {
    "collapsed": true,
    "jupyter": {
     "outputs_hidden": true
    },
    "tags": []
   },
   "outputs": [
    {
     "data": {
      "text/plain": [
       "array([[0.44935225, 0.55064775, 1.        ],\n",
       "       [0.86335511, 0.13664489, 0.        ],\n",
       "       [0.86429643, 0.13570357, 0.        ],\n",
       "       [0.84968519, 0.15031481, 0.        ],\n",
       "       [0.82343409, 0.17656591, 0.        ],\n",
       "       [0.84231224, 0.15768776, 0.        ],\n",
       "       [0.87095489, 0.12904511, 0.        ],\n",
       "       [0.27228603, 0.72771397, 1.        ],\n",
       "       [0.78185128, 0.21814872, 0.        ],\n",
       "       [0.33185998, 0.66814002, 1.        ],\n",
       "       [0.86178763, 0.13821237, 0.        ],\n",
       "       [0.87058097, 0.12941903, 0.        ],\n",
       "       [0.8642595 , 0.1357405 , 0.        ],\n",
       "       [0.87065944, 0.12934056, 0.        ],\n",
       "       [0.56033544, 0.43966456, 0.        ],\n",
       "       [0.85003022, 0.14996978, 0.        ],\n",
       "       [0.88954172, 0.11045828, 0.        ],\n",
       "       [0.74250732, 0.25749268, 0.        ],\n",
       "       [0.71120224, 0.28879776, 0.        ],\n",
       "       [0.23776278, 0.76223722, 1.        ],\n",
       "       [0.75684107, 0.24315893, 0.        ],\n",
       "       [0.62428169, 0.37571831, 0.        ],\n",
       "       [0.84655246, 0.15344754, 0.        ],\n",
       "       [0.82711256, 0.17288744, 0.        ],\n",
       "       [0.86825628, 0.13174372, 0.        ],\n",
       "       [0.77003828, 0.22996172, 0.        ],\n",
       "       [0.82946349, 0.17053651, 0.        ],\n",
       "       [0.90336131, 0.09663869, 0.        ],\n",
       "       [0.73372049, 0.26627951, 0.        ],\n",
       "       [0.68847387, 0.31152613, 0.        ],\n",
       "       [0.07646869, 0.92353131, 1.        ],\n",
       "       [0.2253212 , 0.7746788 , 1.        ],\n",
       "       [0.87161939, 0.12838061, 0.        ],\n",
       "       [0.24075418, 0.75924582, 1.        ],\n",
       "       [0.62711731, 0.37288269, 0.        ],\n",
       "       [0.77003828, 0.22996172, 0.        ],\n",
       "       [0.90554276, 0.09445724, 0.        ],\n",
       "       [0.40602574, 0.59397426, 1.        ],\n",
       "       [0.93043584, 0.06956416, 0.        ],\n",
       "       [0.8765052 , 0.1234948 , 0.        ],\n",
       "       [0.69797422, 0.30202578, 0.        ],\n",
       "       [0.89664595, 0.10335405, 0.        ],\n",
       "       [0.21993379, 0.78006621, 1.        ],\n",
       "       [0.31565713, 0.68434287, 1.        ],\n",
       "       [0.37942228, 0.62057772, 1.        ],\n",
       "       [0.37932891, 0.62067109, 1.        ],\n",
       "       [0.07161281, 0.92838719, 1.        ],\n",
       "       [0.55777586, 0.44222414, 0.        ],\n",
       "       [0.07914487, 0.92085513, 1.        ],\n",
       "       [0.86803082, 0.13196918, 0.        ],\n",
       "       [0.50790057, 0.49209943, 0.        ],\n",
       "       [0.87065944, 0.12934056, 0.        ],\n",
       "       [0.85576405, 0.14423595, 0.        ],\n",
       "       [0.34870129, 0.65129871, 1.        ],\n",
       "       [0.71558417, 0.28441583, 0.        ],\n",
       "       [0.78853206, 0.21146794, 0.        ],\n",
       "       [0.7461921 , 0.2538079 , 0.        ],\n",
       "       [0.86429   , 0.13571   , 0.        ],\n",
       "       [0.84079003, 0.15920997, 0.        ],\n",
       "       [0.59838066, 0.40161934, 0.        ],\n",
       "       [0.73532081, 0.26467919, 0.        ],\n",
       "       [0.88705596, 0.11294404, 0.        ],\n",
       "       [0.545528  , 0.454472  , 0.        ],\n",
       "       [0.55326343, 0.44673657, 0.        ],\n",
       "       [0.62583522, 0.37416478, 0.        ],\n",
       "       [0.88363277, 0.11636723, 0.        ],\n",
       "       [0.35181256, 0.64818744, 1.        ],\n",
       "       [0.39903352, 0.60096648, 1.        ],\n",
       "       [0.08300815, 0.91699185, 1.        ],\n",
       "       [0.85072522, 0.14927478, 0.        ],\n",
       "       [0.86778819, 0.13221181, 0.        ],\n",
       "       [0.83070924, 0.16929076, 0.        ],\n",
       "       [0.87649042, 0.12350958, 0.        ],\n",
       "       [0.05959915, 0.94040085, 1.        ],\n",
       "       [0.78735759, 0.21264241, 0.        ],\n",
       "       [0.87065944, 0.12934056, 0.        ],\n",
       "       [0.716541  , 0.283459  , 0.        ],\n",
       "       [0.79159804, 0.20840196, 0.        ],\n",
       "       [0.20303098, 0.79696902, 1.        ],\n",
       "       [0.86429   , 0.13571   , 0.        ],\n",
       "       [0.2400505 , 0.7599495 , 1.        ],\n",
       "       [0.37123587, 0.62876413, 1.        ],\n",
       "       [0.08369626, 0.91630374, 1.        ],\n",
       "       [0.84018612, 0.15981388, 0.        ],\n",
       "       [0.07766719, 0.92233281, 1.        ],\n",
       "       [0.08973248, 0.91026752, 1.        ],\n",
       "       [0.84723076, 0.15276924, 0.        ],\n",
       "       [0.8624153 , 0.1375847 , 0.        ],\n",
       "       [0.16539734, 0.83460266, 1.        ],\n",
       "       [0.87065944, 0.12934056, 0.        ],\n",
       "       [0.87065944, 0.12934056, 0.        ],\n",
       "       [0.77003828, 0.22996172, 0.        ],\n",
       "       [0.75416744, 0.24583256, 0.        ],\n",
       "       [0.87065944, 0.12934056, 0.        ],\n",
       "       [0.37932891, 0.62067109, 1.        ],\n",
       "       [0.89883889, 0.10116111, 0.        ],\n",
       "       [0.07361403, 0.92638597, 1.        ],\n",
       "       [0.87897226, 0.12102774, 0.        ],\n",
       "       [0.60197825, 0.39802175, 0.        ],\n",
       "       [0.06738996, 0.93261004, 1.        ],\n",
       "       [0.47948281, 0.52051719, 1.        ],\n",
       "       [0.9046927 , 0.0953073 , 0.        ],\n",
       "       [0.05673721, 0.94326279, 1.        ],\n",
       "       [0.88180787, 0.11819213, 0.        ],\n",
       "       [0.45587969, 0.54412031, 1.        ],\n",
       "       [0.86133437, 0.13866563, 0.        ],\n",
       "       [0.84974929, 0.15025071, 0.        ],\n",
       "       [0.85072697, 0.14927303, 0.        ],\n",
       "       [0.55502751, 0.44497249, 0.        ],\n",
       "       [0.88426898, 0.11573102, 0.        ],\n",
       "       [0.84747418, 0.15252582, 0.        ],\n",
       "       [0.87269562, 0.12730438, 0.        ],\n",
       "       [0.67538692, 0.32461308, 0.        ],\n",
       "       [0.48275247, 0.51724753, 1.        ],\n",
       "       [0.86825628, 0.13174372, 0.        ],\n",
       "       [0.9159719 , 0.0840281 , 0.        ],\n",
       "       [0.84194204, 0.15805796, 0.        ],\n",
       "       [0.78872838, 0.21127162, 0.        ],\n",
       "       [0.11141754, 0.88858246, 1.        ],\n",
       "       [0.90534855, 0.09465145, 0.        ],\n",
       "       [0.87071643, 0.12928357, 0.        ],\n",
       "       [0.86905438, 0.13094562, 0.        ],\n",
       "       [0.91525793, 0.08474207, 0.        ],\n",
       "       [0.58196827, 0.41803173, 0.        ],\n",
       "       [0.98025012, 0.01974988, 0.        ],\n",
       "       [0.87071643, 0.12928357, 0.        ],\n",
       "       [0.87219019, 0.12780981, 0.        ],\n",
       "       [0.7119464 , 0.2880536 , 0.        ],\n",
       "       [0.34348899, 0.65651101, 1.        ],\n",
       "       [0.70226693, 0.29773307, 0.        ],\n",
       "       [0.06738996, 0.93261004, 1.        ],\n",
       "       [0.59805546, 0.40194454, 0.        ],\n",
       "       [0.3288534 , 0.6711466 , 1.        ],\n",
       "       [0.48644765, 0.51355235, 1.        ],\n",
       "       [0.42864813, 0.57135187, 1.        ],\n",
       "       [0.56346572, 0.43653428, 0.        ],\n",
       "       [0.25853148, 0.74146852, 1.        ],\n",
       "       [0.77643225, 0.22356775, 0.        ],\n",
       "       [0.87632447, 0.12367553, 0.        ],\n",
       "       [0.15009277, 0.84990723, 1.        ],\n",
       "       [0.13434695, 0.86565305, 1.        ],\n",
       "       [0.85072697, 0.14927303, 0.        ],\n",
       "       [0.86772102, 0.13227898, 0.        ],\n",
       "       [0.89628756, 0.10371244, 0.        ],\n",
       "       [0.88613339, 0.11386661, 0.        ],\n",
       "       [0.34797639, 0.65202361, 1.        ],\n",
       "       [0.89917048, 0.10082952, 0.        ],\n",
       "       [0.72997342, 0.27002658, 0.        ],\n",
       "       [0.12221446, 0.87778554, 1.        ],\n",
       "       [0.8171969 , 0.1828031 , 0.        ],\n",
       "       [0.61865112, 0.38134888, 0.        ],\n",
       "       [0.37370305, 0.62629695, 1.        ],\n",
       "       [0.38348341, 0.61651659, 1.        ],\n",
       "       [0.86463298, 0.13536702, 0.        ],\n",
       "       [0.25161298, 0.74838702, 1.        ],\n",
       "       [0.10388332, 0.89611668, 1.        ],\n",
       "       [0.57648057, 0.42351943, 0.        ],\n",
       "       [0.85476848, 0.14523152, 0.        ],\n",
       "       [0.31415125, 0.68584875, 1.        ],\n",
       "       [0.33907972, 0.66092028, 1.        ],\n",
       "       [0.84347719, 0.15652281, 0.        ],\n",
       "       [0.23261134, 0.76738866, 1.        ],\n",
       "       [0.88859273, 0.11140727, 0.        ],\n",
       "       [0.35220567, 0.64779433, 1.        ],\n",
       "       [0.58554858, 0.41445142, 0.        ],\n",
       "       [0.36143288, 0.63856712, 1.        ],\n",
       "       [0.1363406 , 0.8636594 , 1.        ],\n",
       "       [0.67797005, 0.32202995, 0.        ],\n",
       "       [0.88600083, 0.11399917, 0.        ],\n",
       "       [0.13946115, 0.86053885, 1.        ],\n",
       "       [0.87095489, 0.12904511, 0.        ],\n",
       "       [0.20616022, 0.79383978, 1.        ],\n",
       "       [0.76719902, 0.23280098, 0.        ],\n",
       "       [0.77437244, 0.22562756, 0.        ],\n",
       "       [0.50324048, 0.49675952, 0.        ],\n",
       "       [0.91079838, 0.08920162, 0.        ],\n",
       "       [0.84970738, 0.15029262, 0.        ],\n",
       "       [0.54874087, 0.45125913, 0.        ],\n",
       "       [0.48192063, 0.51807937, 1.        ]])"
      ]
     },
     "execution_count": 11,
     "metadata": {},
     "output_type": "execute_result"
    }
   ],
   "source": [
    "np.concatenate([pred_proba,pred.reshape(-1,1)],axis=1)"
   ]
  },
  {
   "cell_type": "code",
   "execution_count": 12,
   "id": "4148ea6e-14d1-45e4-a77d-47012b0f60ff",
   "metadata": {},
   "outputs": [],
   "source": [
    "from sklearn.preprocessing import Binarizer"
   ]
  },
  {
   "cell_type": "code",
   "execution_count": 13,
   "id": "1afff4ba-565d-417c-ab23-9c099c48ca74",
   "metadata": {},
   "outputs": [
    {
     "data": {
      "text/plain": [
       "[[1, -1, 2], [2, 0, 0], [0, 1.1, 1.2]]"
      ]
     },
     "execution_count": 13,
     "metadata": {},
     "output_type": "execute_result"
    }
   ],
   "source": [
    "X=[[1,-1,2],\n",
    "   [2,0,0],\n",
    "   [0,1.1,1.2]]\n",
    "X"
   ]
  },
  {
   "cell_type": "code",
   "execution_count": 14,
   "id": "f0ab3f29-ec34-4894-8a06-ef199a6e177d",
   "metadata": {},
   "outputs": [],
   "source": [
    "binarizer = Binarizer(threshold=1.1)"
   ]
  },
  {
   "cell_type": "code",
   "execution_count": 15,
   "id": "7d8cce99-d4c8-42d6-9a80-3ecbb17af496",
   "metadata": {},
   "outputs": [
    {
     "data": {
      "text/plain": [
       "array([[0., 0., 1.],\n",
       "       [1., 0., 0.],\n",
       "       [0., 0., 1.]])"
      ]
     },
     "execution_count": 15,
     "metadata": {},
     "output_type": "execute_result"
    }
   ],
   "source": [
    "binarizer.fit_transform(X)"
   ]
  },
  {
   "cell_type": "code",
   "execution_count": 16,
   "id": "4ad1288d-7ccd-46eb-b565-f518dd3e5335",
   "metadata": {},
   "outputs": [],
   "source": [
    "custom_threshold=0.5"
   ]
  },
  {
   "cell_type": "code",
   "execution_count": 20,
   "id": "5cb2c594-4681-46c3-807e-835fce317826",
   "metadata": {},
   "outputs": [],
   "source": [
    "pred_proba_1 = pred_proba[:,1].reshape(-1,1)"
   ]
  },
  {
   "cell_type": "code",
   "execution_count": 21,
   "id": "45d09204-58ac-4f56-91a6-5a7508f4ba2e",
   "metadata": {},
   "outputs": [],
   "source": [
    "custom_predict = Binarizer(threshold=custom_threshold).fit_transform(pred_proba_1)"
   ]
  },
  {
   "cell_type": "code",
   "execution_count": 22,
   "id": "b7ef5c06-81ab-479c-b3ce-8e2c6b188e9c",
   "metadata": {},
   "outputs": [
    {
     "name": "stdout",
     "output_type": "stream",
     "text": [
      "오차행렬\n",
      "[[108  10]\n",
      " [ 14  47]]\n",
      "정확도:0.8659, 정밀도:0.8246, 재현율:0.7705\n"
     ]
    }
   ],
   "source": [
    "# 오차행렬\n",
    "# [[108  10]\n",
    "#  [ 14  47]]\n",
    "# 정확도:0.8659, 정밀도:0.8246, 재현율:0.7705\n",
    "get_clf_eval(y_test,custom_predict)"
   ]
  },
  {
   "cell_type": "code",
   "execution_count": 23,
   "id": "25ff295b-afe0-4ba3-a938-c49a2e82aea4",
   "metadata": {},
   "outputs": [
    {
     "name": "stdout",
     "output_type": "stream",
     "text": [
      "오차행렬\n",
      "[[97 21]\n",
      " [11 50]]\n",
      "정확도:0.8212, 정밀도:0.7042, 재현율:0.8197\n"
     ]
    }
   ],
   "source": [
    "custom_threshold=0.4\n",
    "custom_predict = Binarizer(threshold=custom_threshold).fit_transform(pred_proba_1)\n",
    "get_clf_eval(y_test,custom_predict)"
   ]
  },
  {
   "cell_type": "code",
   "execution_count": 24,
   "id": "792aa07e-6ee3-422c-b001-094e1f5dfb91",
   "metadata": {},
   "outputs": [
    {
     "name": "stdout",
     "output_type": "stream",
     "text": [
      "오차행렬\n",
      "[[113   5]\n",
      " [ 17  44]]\n",
      "정확도:0.8771, 정밀도:0.8980, 재현율:0.7213\n"
     ]
    }
   ],
   "source": [
    "custom_threshold=0.6\n",
    "custom_predict = Binarizer(threshold=custom_threshold).fit_transform(pred_proba_1)\n",
    "get_clf_eval(y_test,custom_predict)"
   ]
  },
  {
   "cell_type": "code",
   "execution_count": 25,
   "id": "5a647dd2-b994-43d1-bc90-a2fd5a687b06",
   "metadata": {},
   "outputs": [
    {
     "name": "stdout",
     "output_type": "stream",
     "text": [
      "오차행렬\n",
      "[[97 21]\n",
      " [11 50]]\n",
      "정확도:0.8212, 정밀도:0.7042, 재현율:0.8197\n",
      "오차행렬\n",
      "[[105  13]\n",
      " [ 13  48]]\n",
      "정확도:0.8547, 정밀도:0.7869, 재현율:0.7869\n",
      "오차행렬\n",
      "[[108  10]\n",
      " [ 14  47]]\n",
      "정확도:0.8659, 정밀도:0.8246, 재현율:0.7705\n",
      "오차행렬\n",
      "[[111   7]\n",
      " [ 16  45]]\n",
      "정확도:0.8715, 정밀도:0.8654, 재현율:0.7377\n",
      "오차행렬\n",
      "[[113   5]\n",
      " [ 17  44]]\n",
      "정확도:0.8771, 정밀도:0.8980, 재현율:0.7213\n"
     ]
    }
   ],
   "source": [
    "thresholds = [0.4,0.45,0.5,0.55,0.6]\n",
    "def get_eval_by_threshold(y_test,pred_proba_1,thresholds):\n",
    "    for custom_threshold in thresholds:\n",
    "        custom_predict = Binarizer(threshold=custom_threshold).fit_transform(pred_proba_1)\n",
    "        get_clf_eval(y_test,custom_predict)\n",
    "get_eval_by_threshold(y_test,pred_proba_1,thresholds)        "
   ]
  },
  {
   "cell_type": "code",
   "execution_count": 26,
   "id": "26561f16-3211-41e9-8919-48e9da5c9c36",
   "metadata": {},
   "outputs": [],
   "source": [
    "from sklearn.metrics import precision_recall_curve"
   ]
  },
  {
   "cell_type": "code",
   "execution_count": 28,
   "id": "5ed084ef-6c15-4129-830a-599a0668c172",
   "metadata": {
    "tags": []
   },
   "outputs": [],
   "source": [
    "precisions,recalls,thresholds = precision_recall_curve(y_test,pred_proba_1)"
   ]
  },
  {
   "cell_type": "code",
   "execution_count": 29,
   "id": "53cbac3a-6c61-4de4-a16e-81d76f8f6e8f",
   "metadata": {},
   "outputs": [
    {
     "data": {
      "text/plain": [
       "((148,), (148,), (147,))"
      ]
     },
     "execution_count": 29,
     "metadata": {},
     "output_type": "execute_result"
    }
   ],
   "source": [
    "precisions.shape,recalls.shape,thresholds.shape"
   ]
  },
  {
   "cell_type": "code",
   "execution_count": 30,
   "id": "0292be06-fbd8-47a5-a6ab-8a0075485ee0",
   "metadata": {},
   "outputs": [],
   "source": [
    "thr_index = np.arange(0,thresholds.shape[0],15)"
   ]
  },
  {
   "cell_type": "code",
   "execution_count": 31,
   "id": "bee23efb-90d7-4310-a1d4-e5baf58b0cc7",
   "metadata": {},
   "outputs": [
    {
     "data": {
      "text/plain": [
       "array([  0,  15,  30,  45,  60,  75,  90, 105, 120, 135])"
      ]
     },
     "execution_count": 31,
     "metadata": {},
     "output_type": "execute_result"
    }
   ],
   "source": [
    "thr_index"
   ]
  },
  {
   "cell_type": "code",
   "execution_count": 33,
   "id": "3d316764-3e81-41bf-aabd-fdf448e96f63",
   "metadata": {},
   "outputs": [
    {
     "data": {
      "text/plain": [
       "array([0.12, 0.13, 0.15, 0.17, 0.26, 0.38, 0.49, 0.63, 0.76, 0.9 ])"
      ]
     },
     "execution_count": 33,
     "metadata": {},
     "output_type": "execute_result"
    }
   ],
   "source": [
    "np.round(thresholds[thr_index],2)"
   ]
  },
  {
   "cell_type": "code",
   "execution_count": 34,
   "id": "a9e3bfd0-c4b1-4f9a-b41f-7cd77307c0ff",
   "metadata": {},
   "outputs": [
    {
     "data": {
      "text/plain": [
       "array([0.379, 0.424, 0.455, 0.519, 0.618, 0.676, 0.797, 0.93 , 0.964,\n",
       "       1.   ])"
      ]
     },
     "execution_count": 34,
     "metadata": {},
     "output_type": "execute_result"
    }
   ],
   "source": [
    "np.round(precisions[thr_index] ,3)"
   ]
  },
  {
   "cell_type": "code",
   "execution_count": 35,
   "id": "1a13c1fd-1094-4e85-bc94-a90e5ad87017",
   "metadata": {},
   "outputs": [
    {
     "data": {
      "text/plain": [
       "array([1.   , 0.967, 0.902, 0.902, 0.902, 0.82 , 0.77 , 0.656, 0.443,\n",
       "       0.213])"
      ]
     },
     "execution_count": 35,
     "metadata": {},
     "output_type": "execute_result"
    }
   ],
   "source": [
    "np.round(recalls[thr_index] ,3)"
   ]
  },
  {
   "cell_type": "code",
   "execution_count": 36,
   "id": "b882985c-f34d-4349-b8f7-d5e09f224c87",
   "metadata": {},
   "outputs": [],
   "source": [
    "import matplotlib.pyplot as plt"
   ]
  },
  {
   "cell_type": "code",
   "execution_count": 41,
   "id": "7c5f3a8c-ad1d-43f3-8c8f-2ec9eb517fd1",
   "metadata": {},
   "outputs": [],
   "source": [
    "def precision_recall_curve_plot(y_test,pred_proba_1):\n",
    "    from sklearn.metrics import precision_recall_curve\n",
    "    import matplotlib.pyplot as plt\n",
    "    precisions,recalls,thresholds = precision_recall_curve(y_test,pred_proba_1)\n",
    "    plt.figure(figsize=(8,6))\n",
    "    threshold_boundary = thresholds.shape[0]\n",
    "    plt.plot(thresholds,precisions[0:threshold_boundary],linestyle='--',label='precision')\n",
    "    plt.plot(thresholds,recalls[0:threshold_boundary],label='recall')\n",
    "    start,end = plt.xlim()\n",
    "    plt.xticks(np.round(np.arange(start,end,0.1),2))\n",
    "    plt.xlabel('임계값')\n",
    "    plt.ylabel('정밀도와 재현율')\n",
    "    plt.legend()\n",
    "    plt.grid()\n",
    "    plt.show()   "
   ]
  },
  {
   "cell_type": "code",
   "execution_count": 42,
   "id": "f55c767a-ac63-4a7f-aab2-a7d37a40d5b0",
   "metadata": {
    "collapsed": true,
    "jupyter": {
     "outputs_hidden": true
    },
    "tags": []
   },
   "outputs": [
    {
     "data": {
      "image/png": "[encoded data removed]",
      "text/plain": [
       "<Figure size 800x600 with 1 Axes>"
      ]
     },
     "metadata": {},
     "output_type": "display_data"
    }
   ],
   "source": [
    "precision_recall_curve_plot(y_test,pred_proba_1)"
   ]
  },
  {
   "cell_type": "code",
   "execution_count": 43,
   "id": "048e8f2a-fcb1-4d30-a987-ebfb27436060",
   "metadata": {},
   "outputs": [],
   "source": [
    "from sklearn.metrics import f1_score"
   ]
  },
  {
   "cell_type": "code",
   "execution_count": 44,
   "id": "950d3b17-2a8e-4f8d-b948-ef92beab1868",
   "metadata": {},
   "outputs": [
    {
     "data": {
      "text/plain": [
       "0.7966101694915254"
      ]
     },
     "execution_count": 44,
     "metadata": {},
     "output_type": "execute_result"
    }
   ],
   "source": [
    "f1_score(y_test,pred)"
   ]
  },
  {
   "cell_type": "code",
   "execution_count": 46,
   "id": "a3ab2e8f-243d-4885-9102-5a4991dc410c",
   "metadata": {},
   "outputs": [
    {
     "name": "stdout",
     "output_type": "stream",
     "text": [
      "임계값:0.4\n",
      "오차행렬\n",
      "[[97 21]\n",
      " [11 50]]\n",
      "정확도:0.8212, 정밀도:0.7042, 재현율:0.8197, F1:0.7576\n",
      "임계값:0.45\n",
      "오차행렬\n",
      "[[105  13]\n",
      " [ 13  48]]\n",
      "정확도:0.8547, 정밀도:0.7869, 재현율:0.7869, F1:0.7869\n",
      "임계값:0.5\n",
      "오차행렬\n",
      "[[108  10]\n",
      " [ 14  47]]\n",
      "정확도:0.8659, 정밀도:0.8246, 재현율:0.7705, F1:0.7966\n",
      "임계값:0.55\n",
      "오차행렬\n",
      "[[111   7]\n",
      " [ 16  45]]\n",
      "정확도:0.8715, 정밀도:0.8654, 재현율:0.7377, F1:0.7965\n",
      "임계값:0.6\n",
      "오차행렬\n",
      "[[113   5]\n",
      " [ 17  44]]\n",
      "정확도:0.8771, 정밀도:0.8980, 재현율:0.7213, F1:0.8000\n"
     ]
    }
   ],
   "source": [
    "def get_clf_eval(y_test,pred):\n",
    "    from sklearn.metrics import accuracy_score,precision_score,recall_score,confusion_matrix,f1_score\n",
    "    confusion = confusion_matrix(y_test,pred)\n",
    "    accuracy = accuracy_score(y_test,pred)\n",
    "    precision = precision_score(y_test,pred)\n",
    "    recall = recall_score(y_test,pred)\n",
    "    f1 = f1_score(y_test,pred)\n",
    "    print('오차행렬')\n",
    "    print(confusion)\n",
    "    print(f'정확도:{accuracy:.4f}, 정밀도:{precision:.4f}, 재현율:{recall:.4f}, F1:{f1:.4f}')\n",
    "    \n",
    "thresholds = [0.4,0.45,0.5,0.55,0.6]\n",
    "def get_eval_by_threshold(y_test,pred_proba_1,thresholds):\n",
    "    for custom_threshold in thresholds:\n",
    "        custom_predict = Binarizer(threshold=custom_threshold).fit_transform(pred_proba_1)\n",
    "        print(f'임계값:{custom_threshold}')\n",
    "        get_clf_eval(y_test,custom_predict)\n",
    "get_eval_by_threshold(y_test,pred_proba_1,thresholds)        "
   ]
  },
  {
   "cell_type": "code",
   "execution_count": 47,
   "id": "e3b3cc17-720c-449d-ad53-7fb741f8add5",
   "metadata": {},
   "outputs": [],
   "source": [
    "from sklearn.metrics import roc_curve"
   ]
  },
  {
   "cell_type": "code",
   "execution_count": 48,
   "id": "d4ced6d4-abb1-4558-94b9-09ee6dbb293d",
   "metadata": {
    "collapsed": true,
    "jupyter": {
     "outputs_hidden": true
    },
    "tags": []
   },
   "outputs": [
    {
     "data": {
      "text/plain": [
       "(array([0.        , 0.        , 0.        , 0.        , 0.        ,\n",
       "        0.00847458, 0.00847458, 0.01694915, 0.01694915, 0.02542373,\n",
       "        0.02542373, 0.02542373, 0.04237288, 0.04237288, 0.05932203,\n",
       "        0.05932203, 0.07627119, 0.07627119, 0.10169492, 0.10169492,\n",
       "        0.12711864, 0.12711864, 0.16949153, 0.16949153, 0.20338983,\n",
       "        0.20338983, 0.25423729, 0.25423729, 0.3220339 , 0.34745763,\n",
       "        0.55932203, 0.57627119, 0.59322034, 0.59322034, 0.60169492,\n",
       "        0.60169492, 0.61016949, 0.61864407, 0.66101695, 0.6779661 ,\n",
       "        0.69491525, 0.74576271, 0.77966102, 0.8220339 , 0.8220339 ,\n",
       "        0.84745763, 0.84745763, 1.        ]),\n",
       " array([0.        , 0.01639344, 0.03278689, 0.06557377, 0.24590164,\n",
       "        0.24590164, 0.49180328, 0.49180328, 0.63934426, 0.63934426,\n",
       "        0.67213115, 0.70491803, 0.70491803, 0.72131148, 0.72131148,\n",
       "        0.73770492, 0.73770492, 0.7704918 , 0.7704918 , 0.78688525,\n",
       "        0.78688525, 0.80327869, 0.80327869, 0.81967213, 0.81967213,\n",
       "        0.8852459 , 0.8852459 , 0.90163934, 0.90163934, 0.90163934,\n",
       "        0.90163934, 0.90163934, 0.90163934, 0.91803279, 0.91803279,\n",
       "        0.95081967, 0.95081967, 0.96721311, 0.96721311, 0.96721311,\n",
       "        0.96721311, 0.96721311, 0.96721311, 0.96721311, 0.98360656,\n",
       "        0.98360656, 1.        , 1.        ]),\n",
       " array([1.94326279, 0.94326279, 0.94040085, 0.93261004, 0.87778554,\n",
       "        0.86565305, 0.72771397, 0.68584875, 0.64779433, 0.63856712,\n",
       "        0.62629695, 0.62067109, 0.61651659, 0.60096648, 0.57135187,\n",
       "        0.55064775, 0.52051719, 0.51724753, 0.49209943, 0.454472  ,\n",
       "        0.44497249, 0.44222414, 0.41445142, 0.40194454, 0.37571831,\n",
       "        0.32202995, 0.28441583, 0.283459  , 0.23280098, 0.22996172,\n",
       "        0.14927478, 0.14927303, 0.14423595, 0.13866563, 0.13821237,\n",
       "        0.13664489, 0.1357405 , 0.13571   , 0.13196918, 0.13174372,\n",
       "        0.12941903, 0.12934056, 0.12904511, 0.12350958, 0.1234948 ,\n",
       "        0.11636723, 0.11573102, 0.01974988]))"
      ]
     },
     "execution_count": 48,
     "metadata": {},
     "output_type": "execute_result"
    }
   ],
   "source": [
    "roc_curve(y_test,pred_proba_1)"
   ]
  },
  {
   "cell_type": "code",
   "execution_count": 49,
   "id": "3fe43f91-2e24-4a0b-b422-389b35161755",
   "metadata": {},
   "outputs": [],
   "source": [
    "def roc_curve_plot(y_test,pred_proba_1):\n",
    "    from sklearn.metrics import roc_curve\n",
    "    import matplotlib.pyplot as plt\n",
    "    fprs ,tprs, thresholds = roc_curve(y_test,pred_proba_1)\n",
    "    plt.plot(fprs,tprs,label='ROC')\n",
    "    plt.plot([0,1],[0,1],'k--',label='Random')\n",
    "    plt.legend()\n",
    "    plt.show()   "
   ]
  },
  {
   "cell_type": "code",
   "execution_count": 50,
   "id": "1b1e4059-d72b-4b86-befa-03dc72424e8a",
   "metadata": {},
   "outputs": [
    {
     "data": {
      "image/png": "[encoded data removed]",
      "text/plain": [
       "<Figure size 640x480 with 1 Axes>"
      ]
     },
     "metadata": {},
     "output_type": "display_data"
    }
   ],
   "source": [
    "roc_curve_plot(y_test,pred_proba_1)"
   ]
  },
  {
   "cell_type": "code",
   "execution_count": 51,
   "id": "098c07a1-3135-4df2-a3d0-c69762105f9e",
   "metadata": {},
   "outputs": [],
   "source": [
    "from sklearn.metrics import roc_auc_score"
   ]
  },
  {
   "cell_type": "code",
   "execution_count": 52,
   "id": "ff664882-a6de-4a80-9638-8252507f4caf",
   "metadata": {},
   "outputs": [
    {
     "data": {
      "text/plain": [
       "0.8986524034454015"
      ]
     },
     "execution_count": 52,
     "metadata": {},
     "output_type": "execute_result"
    }
   ],
   "source": [
    "roc_auc_score(y_test,pred_proba_1)"
   ]
  },
  {
   "cell_type": "code",
   "execution_count": 53,
   "id": "5ef0ea6d-b11c-4ec9-800b-8bc634e91c3e",
   "metadata": {},
   "outputs": [],
   "source": [
    "def get_clf_eval(y_test,pred):\n",
    "    from sklearn.metrics import accuracy_score,precision_score,recall_score,confusion_matrix,f1_score,roc_auc_score\n",
    "    confusion = confusion_matrix(y_test,pred)\n",
    "    accuracy = accuracy_score(y_test,pred)\n",
    "    precision = precision_score(y_test,pred)\n",
    "    recall = recall_score(y_test,pred)\n",
    "    f1 = f1_score(y_test,pred)\n",
    "    auc = roc_auc_score(y_test,pred_proba_1)\n",
    "    print('오차행렬')\n",
    "    print(confusion)\n",
    "    print(f'정확도:{accuracy:.4f}, 정밀도:{precision:.4f}, 재현율:{recall:.4f}, F1:{f1:.4f}, AUC:{auc:.4f}')"
   ]
  },
  {
   "cell_type": "code",
   "execution_count": null,
   "id": "e4a94464-f222-4ff9-a7d8-afa21c3c4e77",
   "metadata": {},
   "outputs": [],
   "source": []
  }
 ],
 "metadata": {
  "kernelspec": {
   "display_name": "Python 3 (ipykernel)",
   "language": "python",
   "name": "python3"
  },
  "language_info": {
   "codemirror_mode": {
    "name": "ipython",
    "version": 3
   },
   "file_extension": ".py",
   "mimetype": "text/x-python",
   "name": "python",
   "nbconvert_exporter": "python",
   "pygments_lexer": "ipython3",
   "version": "3.9.13"
  }
 },
 "nbformat": 4,
 "nbformat_minor": 5
}
